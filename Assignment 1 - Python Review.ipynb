{
 "cells": [
  {
   "cell_type": "markdown",
   "id": "1d17886d",
   "metadata": {},
   "source": [
    "# Assignment 1 - Python Review"
   ]
  },
  {
   "cell_type": "markdown",
   "id": "0864cacd",
   "metadata": {},
   "source": [
    "# In this assignment you will have 2 tasks"
   ]
  },
  {
   "cell_type": "markdown",
   "id": "f2f68f67",
   "metadata": {},
   "source": [
    "## task 1:\n",
    "### build a number book and make it has these attributes: names, IDs, and phone numbers\n",
    "##### hint: use dictionary\n",
    "### the results should be: \n",
    "- print the whole number book\n",
    "- print the first name\n",
    "- print the last phone number"
   ]
  },
  {
   "cell_type": "code",
   "execution_count": 1,
   "id": "31442fc0",
   "metadata": {},
   "outputs": [
    {
     "data": {
      "text/plain": [
       "{'Name': ['Norah', 'Aseel', 'Maram', 'Fay'],\n",
       " 'ID': [1111, 2222, 3333, 4444],\n",
       " 'Phone': ['0501111', '0502222', '0503333', '0504444']}"
      ]
     },
     "execution_count": 1,
     "metadata": {},
     "output_type": "execute_result"
    }
   ],
   "source": [
    "numBook = {\n",
    "    'Name' : ['Norah', 'Aseel', 'Maram', 'Fay'],\n",
    "    'ID' : [1111,2222,3333,4444],\n",
    "    'Phone' : ['0501111','0502222','0503333','0504444']\n",
    "}\n",
    "numBook"
   ]
  },
  {
   "cell_type": "code",
   "execution_count": 2,
   "id": "7f1d97d4",
   "metadata": {},
   "outputs": [
    {
     "data": {
      "text/plain": [
       "'Norah'"
      ]
     },
     "execution_count": 2,
     "metadata": {},
     "output_type": "execute_result"
    }
   ],
   "source": [
    "numBook['Name'][0]"
   ]
  },
  {
   "cell_type": "code",
   "execution_count": 3,
   "id": "4d711c4f",
   "metadata": {},
   "outputs": [
    {
     "data": {
      "text/plain": [
       "'0504444'"
      ]
     },
     "execution_count": 3,
     "metadata": {},
     "output_type": "execute_result"
    }
   ],
   "source": [
    "numBook['Phone'][-1]"
   ]
  },
  {
   "cell_type": "markdown",
   "id": "8edc4387",
   "metadata": {},
   "source": [
    "## task 2:\n",
    "### print the squared of these numbers: 4, 3\n",
    "### write an if statement that compare between them\n",
    "#### (note: you have to write the whole comparison operators: >, <, ==, !=)\n",
    "### the results should be:\n",
    "- print the squared of 2 numbers\n",
    "- compare between the 2 squared numbers"
   ]
  },
  {
   "cell_type": "code",
   "execution_count": 4,
   "id": "fe39f161",
   "metadata": {},
   "outputs": [
    {
     "name": "stdout",
     "output_type": "stream",
     "text": [
      "16\n",
      "9\n"
     ]
    }
   ],
   "source": [
    "a = 4\n",
    "b = 3\n",
    "a = a**2\n",
    "b = b**2\n",
    "print(a)\n",
    "print(b)"
   ]
  },
  {
   "cell_type": "code",
   "execution_count": 5,
   "id": "eb24187e",
   "metadata": {},
   "outputs": [
    {
     "name": "stdout",
     "output_type": "stream",
     "text": [
      "a is larger than b\n"
     ]
    }
   ],
   "source": [
    "if a < b:\n",
    "    print('a is smaller than b')\n",
    "elif a > b:\n",
    "    print('a is larger than b')\n",
    "elif a == b:\n",
    "    print('a equals b')\n",
    "else:\n",
    "    print(\"a doesn't equal b\")"
   ]
  }
 ],
 "metadata": {
  "kernelspec": {
   "display_name": "Python 3 (ipykernel)",
   "language": "python",
   "name": "python3"
  },
  "language_info": {
   "codemirror_mode": {
    "name": "ipython",
    "version": 3
   },
   "file_extension": ".py",
   "mimetype": "text/x-python",
   "name": "python",
   "nbconvert_exporter": "python",
   "pygments_lexer": "ipython3",
   "version": "3.11.5"
  }
 },
 "nbformat": 4,
 "nbformat_minor": 5
}
